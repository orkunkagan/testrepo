{
 "cells": [
  {
   "cell_type": "markdown",
   "metadata": {},
   "source": [
    "<center>\n",
    "    <img src=\"https://cf-courses-data.s3.us.cloud-object-storage.appdomain.cloud/IBMDeveloperSkillsNetwork-DS0105EN-SkillsNetwork/labs/Module2/images/SN_web_lightmode.png\" width=\"300\" alt=\"cognitiveclass.ai logo\">\n",
    "</center>\n"
   ]
  },
  {
   "cell_type": "markdown",
   "metadata": {},
   "source": [
    "#### Add your code below following the instructions given in the course\n"
   ]
  },
  {
   "cell_type": "markdown",
   "metadata": {},
   "source": [
    "<a href=\"https://dataplatform.cloud.ibm.com/gallery\">IBM Cloud Gallery</a>"
   ]
  },
  {
   "cell_type": "markdown",
   "metadata": {},
   "source": [
    "Data Science Tools Notebook"
   ]
  },
  {
   "cell_type": "markdown",
   "metadata": {},
   "source": [
    "# Introduction"
   ]
  },
  {
   "cell_type": "markdown",
   "metadata": {},
   "source": [
    "## Data Science Languages\n",
    "\n",
    "Some of the commonly used languages in data science are:\n",
    "\n",
    "- Python\n",
    "- R\n",
    "- SQL\n",
    "- Java\n",
    "- Scala\n",
    "- Julia\n",
    "- MATLAB\n"
   ]
  },
  {
   "cell_type": "markdown",
   "metadata": {},
   "source": [
    "## Data Science Libraries for Jupyter Notebook\n",
    "\n",
    "Some popular data science libraries for Jupyter Notebook are:\n",
    "\n",
    "- NumPy\n",
    "- Pandas\n",
    "- Matplotlib\n",
    "- Seaborn\n",
    "- Scikit-learn\n",
    "- TensorFlow\n",
    "- Keras\n",
    "- PyTorch\n"
   ]
  },
  {
   "cell_type": "markdown",
   "metadata": {},
   "source": [
    "## Data Science Tools\n",
    "\n",
    "| Category | Tools |\n",
    "| --- | --- |\n",
    "| Languages | Python, R, SQL |\n",
    "| Libraries | NumPy, Pandas, Matplotlib, Seaborn, Scikit-learn, TensorFlow, Keras, PyTorch, ggplot2, dplyr, tidyr |\n",
    "| Platforms | Jupyter Notebook, RStudio, Apache Spark, Tableau, Power BI |\n",
    "| Cloud Services | AWS, Google Cloud Platform, Microsoft Azure, IBM Cloud | \n",
    "\n"
   ]
  },
  {
   "cell_type": "markdown",
   "metadata": {},
   "source": [
    "## Arithmetic Expression Examples\n",
    "\n",
    "- Addition (+)\n",
    "- Subtraction (-)\n",
    "- Multiplication (*)\n",
    "- Division (/)\n",
    "- Modulo (%)\n",
    "- Exponentiation (**)\n",
    "\n",
    "Here are some examples of arithmetic expressions:\n",
    "\n",
    "- 5 + 7 = 12\n",
    "- 12 - 3 = 9\n",
    "- 3 * 4 = 12\n",
    "- 10 / 2 = 5\n",
    "- 17 % 3 = 2\n",
    "- 2 ** 3 = 8\n",
    "\n",
    "You can use these operators and their combinations to perform more complex calculations as well. \n"
   ]
  },
  {
   "cell_type": "markdown",
   "metadata": {},
   "source": [
    "# Multiplying two numbers\n",
    "num1 = 5\n",
    "num2 = 6\n",
    "product = num1 * num2\n",
    "print(\"Product:\", product)\n",
    "\n",
    "# Adding two numbers\n",
    "num3 = 8\n",
    "num4 = 3\n",
    "sum = num3 + num4\n",
    "print(\"Sum:\", sum)\n"
   ]
  },
  {
   "cell_type": "markdown",
   "metadata": {},
   "source": [
    "# Convert minutes to hours\n",
    "minutes = 120\n",
    "hours = minutes / 60\n",
    "print(\"Hours:\", hours)\n"
   ]
  },
  {
   "cell_type": "markdown",
   "metadata": {},
   "source": [
    "# List objectives\n",
    "print(\"## Objectives\")\n",
    "print(\"- Demonstrate knowledge of Jupyterlite Notebook\")\n",
    "print(\"- List data science languages and libraries\")\n",
    "print(\"- Create a table of Data Science tools\")\n",
    "print(\"- Perform arithmetic operations using Python\")\n",
    "print(\"- Convert units of time using Python\")\n",
    "print(\"- Share a Jupyterlite Notebook through GitHub\")\n"
   ]
  },
  {
   "cell_type": "markdown",
   "metadata": {},
   "source": [
    "# Print author's name\n",
    "print(\"Author: John Doe\")\n"
   ]
  },
  {
   "cell_type": "code",
   "execution_count": null,
   "metadata": {},
   "outputs": [],
   "source": []
  }
 ],
 "metadata": {
  "kernelspec": {
   "display_name": "Python",
   "language": "python",
   "name": "conda-env-python-py"
  },
  "language_info": {
   "codemirror_mode": {
    "name": "ipython",
    "version": 3
   },
   "file_extension": ".py",
   "mimetype": "text/x-python",
   "name": "python",
   "nbconvert_exporter": "python",
   "pygments_lexer": "ipython3",
   "version": "3.7.12"
  }
 },
 "nbformat": 4,
 "nbformat_minor": 4
}
